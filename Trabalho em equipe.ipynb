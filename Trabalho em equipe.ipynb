{
 "cells": [
  {
   "cell_type": "markdown",
   "metadata": {},
   "source": [
    "## Trabalho em Grupo"
   ]
  },
  {
   "cell_type": "markdown",
   "metadata": {},
   "source": [
    "No trabalho, o grupo decidiu em conjunto o tema e a direção que tomaríamos, e o Renan foi o responsável por analisar e encontrar o programa de cluster que condizia com nosso objetivo. Com isso, os três trabalharam no código para separar o banco de dados e criar variáveis que mostravam a habilidade de goleiro, a ofensiva e a defensiva de cada jogador. Feito isso, o Renan liderou a implementação do cluster, mostrando-nos e explicando-nos as funções. Com o código finalizado, o Diego e o Vinicius ficaram incubidos de finalizar a análise dos dados obtidos e chegar a uma conclusão."
   ]
  }
 ],
 "metadata": {
  "kernelspec": {
   "display_name": "Python 3",
   "language": "python",
   "name": "python3"
  },
  "language_info": {
   "codemirror_mode": {
    "name": "ipython",
    "version": 3
   },
   "file_extension": ".py",
   "mimetype": "text/x-python",
   "name": "python",
   "nbconvert_exporter": "python",
   "pygments_lexer": "ipython3",
   "version": "3.6.1"
  }
 },
 "nbformat": 4,
 "nbformat_minor": 2
}
