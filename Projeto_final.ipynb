{
 "cells": [
  {
   "cell_type": "markdown",
   "metadata": {},
   "source": [
    "# Projeto Final C.D.\n",
    "## Clusterização de jogadores do Fifa 17"
   ]
  },
  {
   "cell_type": "code",
   "execution_count": 2,
   "metadata": {
    "collapsed": true
   },
   "outputs": [],
   "source": [
    "import pandas as pd\n",
    "import math\n",
    "import numpy as np\n",
    "import matplotlib.pyplot as plt\n",
    "import scipy as sp\n",
    "\n",
    "from matplotlib import style\n",
    "style.use(\"ggplot\")\n",
    "from sklearn.cluster import KMeans"
   ]
  },
  {
   "cell_type": "code",
   "execution_count": 3,
   "metadata": {
    "collapsed": true
   },
   "outputs": [],
   "source": [
    "# https://pythonprogramming.net/flat-clustering-machine-learning-python-scikit-learn/\n",
    "\n",
    "# link tutorial de clusterização usando python e algoritimo de K-means"
   ]
  },
  {
   "cell_type": "code",
   "execution_count": 2,
   "metadata": {
    "collapsed": true
   },
   "outputs": [],
   "source": [
    "#Lendo banco de dados\n",
    "dados=pd.read_excel(\"FUT_17_Players.xlsx\", sep=',')\n"
   ]
  },
  {
   "cell_type": "code",
   "execution_count": 9,
   "metadata": {},
   "outputs": [
    {
     "data": {
      "text/plain": [
       "(14501, 78)"
      ]
     },
     "execution_count": 9,
     "metadata": {},
     "output_type": "execute_result"
    }
   ],
   "source": [
    "dados.shape"
   ]
  },
  {
   "cell_type": "code",
   "execution_count": 11,
   "metadata": {
    "scrolled": false
   },
   "outputs": [
    {
     "data": {
      "text/html": [
       "<div>\n",
       "<table border=\"1\" class=\"dataframe\">\n",
       "  <thead>\n",
       "    <tr style=\"text-align: right;\">\n",
       "      <th></th>\n",
       "      <th>id</th>\n",
       "      <th>commonName</th>\n",
       "      <th>firstName</th>\n",
       "      <th>headshotImgUrl</th>\n",
       "      <th>lastName</th>\n",
       "      <th>league</th>\n",
       "      <th>nation</th>\n",
       "      <th>club</th>\n",
       "      <th>headshot</th>\n",
       "      <th>specialImages</th>\n",
       "      <th>...</th>\n",
       "      <th>rawAttributeChemistryBonus</th>\n",
       "      <th>isLoan</th>\n",
       "      <th>squadPosition</th>\n",
       "      <th>itemType</th>\n",
       "      <th>discardValue</th>\n",
       "      <th>modelName</th>\n",
       "      <th>baseId</th>\n",
       "      <th>rating</th>\n",
       "      <th>created_at</th>\n",
       "      <th>updated_at</th>\n",
       "    </tr>\n",
       "  </thead>\n",
       "  <tbody>\n",
       "    <tr>\n",
       "      <th>0</th>\n",
       "      <td>190043</td>\n",
       "      <td>Pelé</td>\n",
       "      <td>Edson</td>\n",
       "      <td>https://fifa17.content.easports.com/fifa/fltOn...</td>\n",
       "      <td>Arantes Nascimento</td>\n",
       "      <td>2118</td>\n",
       "      <td>54</td>\n",
       "      <td>112658</td>\n",
       "      <td>O:8:\\stdClass\\\":3:{s:11:\\\"largeImgUrl\\\";s:148:...</td>\n",
       "      <td>O:8:\\stdClass\\\":2:{s:15:\\\"largeTOTWImgUrl\\\";N;...</td>\n",
       "      <td>...</td>\n",
       "      <td>NaN</td>\n",
       "      <td>NaN</td>\n",
       "      <td>NaN</td>\n",
       "      <td>player</td>\n",
       "      <td>NaN</td>\n",
       "      <td>FUTPlayerItem</td>\n",
       "      <td>190043</td>\n",
       "      <td>95</td>\n",
       "      <td>2016-09-21 16:33:58</td>\n",
       "      <td>2016-09-21 16:33:58</td>\n",
       "    </tr>\n",
       "    <tr>\n",
       "      <th>1</th>\n",
       "      <td>20801</td>\n",
       "      <td>Cristiano Ronaldo</td>\n",
       "      <td>C. Ronaldo</td>\n",
       "      <td>https://fifa17.content.easports.com/fifa/fltOn...</td>\n",
       "      <td>dos Santos Aveiro</td>\n",
       "      <td>53</td>\n",
       "      <td>38</td>\n",
       "      <td>243</td>\n",
       "      <td>O:8:\\stdClass\\\":3:{s:11:\\\"largeImgUrl\\\";s:147:...</td>\n",
       "      <td>O:8:\\stdClass\\\":2:{s:15:\\\"largeTOTWImgUrl\\\";N;...</td>\n",
       "      <td>...</td>\n",
       "      <td>NaN</td>\n",
       "      <td>NaN</td>\n",
       "      <td>NaN</td>\n",
       "      <td>player</td>\n",
       "      <td>NaN</td>\n",
       "      <td>FUTPlayerItem</td>\n",
       "      <td>20801</td>\n",
       "      <td>94</td>\n",
       "      <td>2016-09-21 16:33:58</td>\n",
       "      <td>2016-09-21 16:33:58</td>\n",
       "    </tr>\n",
       "    <tr>\n",
       "      <th>2</th>\n",
       "      <td>158023</td>\n",
       "      <td>NaN</td>\n",
       "      <td>Lionel</td>\n",
       "      <td>https://fifa17.content.easports.com/fifa/fltOn...</td>\n",
       "      <td>Messi</td>\n",
       "      <td>53</td>\n",
       "      <td>52</td>\n",
       "      <td>241</td>\n",
       "      <td>O:8:\\stdClass\\\":3:{s:11:\\\"largeImgUrl\\\";s:148:...</td>\n",
       "      <td>O:8:\\stdClass\\\":2:{s:15:\\\"largeTOTWImgUrl\\\";N;...</td>\n",
       "      <td>...</td>\n",
       "      <td>NaN</td>\n",
       "      <td>NaN</td>\n",
       "      <td>NaN</td>\n",
       "      <td>player</td>\n",
       "      <td>NaN</td>\n",
       "      <td>FUTPlayerItem</td>\n",
       "      <td>158023</td>\n",
       "      <td>93</td>\n",
       "      <td>2016-09-21 16:33:58</td>\n",
       "      <td>2016-09-21 16:33:58</td>\n",
       "    </tr>\n",
       "    <tr>\n",
       "      <th>3</th>\n",
       "      <td>168473</td>\n",
       "      <td>NaN</td>\n",
       "      <td>Franz</td>\n",
       "      <td>https://fifa17.content.easports.com/fifa/fltOn...</td>\n",
       "      <td>Beckenbauer</td>\n",
       "      <td>2118</td>\n",
       "      <td>21</td>\n",
       "      <td>112658</td>\n",
       "      <td>O:8:\\stdClass\\\":3:{s:11:\\\"largeImgUrl\\\";s:148:...</td>\n",
       "      <td>O:8:\\stdClass\\\":2:{s:15:\\\"largeTOTWImgUrl\\\";N;...</td>\n",
       "      <td>...</td>\n",
       "      <td>NaN</td>\n",
       "      <td>NaN</td>\n",
       "      <td>NaN</td>\n",
       "      <td>player</td>\n",
       "      <td>NaN</td>\n",
       "      <td>FUTPlayerItem</td>\n",
       "      <td>168473</td>\n",
       "      <td>93</td>\n",
       "      <td>2016-09-21 16:33:58</td>\n",
       "      <td>2016-09-21 16:33:58</td>\n",
       "    </tr>\n",
       "    <tr>\n",
       "      <th>4</th>\n",
       "      <td>1109</td>\n",
       "      <td>NaN</td>\n",
       "      <td>Paolo</td>\n",
       "      <td>https://fifa17.content.easports.com/fifa/fltOn...</td>\n",
       "      <td>Maldini</td>\n",
       "      <td>2118</td>\n",
       "      <td>27</td>\n",
       "      <td>112658</td>\n",
       "      <td>O:8:\\stdClass\\\":3:{s:11:\\\"largeImgUrl\\\";s:146:...</td>\n",
       "      <td>O:8:\\stdClass\\\":2:{s:15:\\\"largeTOTWImgUrl\\\";N;...</td>\n",
       "      <td>...</td>\n",
       "      <td>NaN</td>\n",
       "      <td>NaN</td>\n",
       "      <td>NaN</td>\n",
       "      <td>player</td>\n",
       "      <td>NaN</td>\n",
       "      <td>FUTPlayerItem</td>\n",
       "      <td>1109</td>\n",
       "      <td>92</td>\n",
       "      <td>2016-09-21 16:33:58</td>\n",
       "      <td>2016-09-21 16:33:58</td>\n",
       "    </tr>\n",
       "  </tbody>\n",
       "</table>\n",
       "<p>5 rows × 78 columns</p>\n",
       "</div>"
      ],
      "text/plain": [
       "       id         commonName   firstName  \\\n",
       "0  190043               Pelé       Edson   \n",
       "1   20801  Cristiano Ronaldo  C. Ronaldo   \n",
       "2  158023                NaN      Lionel   \n",
       "3  168473                NaN       Franz   \n",
       "4    1109                NaN       Paolo   \n",
       "\n",
       "                                      headshotImgUrl            lastName  \\\n",
       "0  https://fifa17.content.easports.com/fifa/fltOn...  Arantes Nascimento   \n",
       "1  https://fifa17.content.easports.com/fifa/fltOn...   dos Santos Aveiro   \n",
       "2  https://fifa17.content.easports.com/fifa/fltOn...               Messi   \n",
       "3  https://fifa17.content.easports.com/fifa/fltOn...         Beckenbauer   \n",
       "4  https://fifa17.content.easports.com/fifa/fltOn...             Maldini   \n",
       "\n",
       "   league  nation    club                                           headshot  \\\n",
       "0    2118      54  112658  O:8:\\stdClass\\\":3:{s:11:\\\"largeImgUrl\\\";s:148:...   \n",
       "1      53      38     243  O:8:\\stdClass\\\":3:{s:11:\\\"largeImgUrl\\\";s:147:...   \n",
       "2      53      52     241  O:8:\\stdClass\\\":3:{s:11:\\\"largeImgUrl\\\";s:148:...   \n",
       "3    2118      21  112658  O:8:\\stdClass\\\":3:{s:11:\\\"largeImgUrl\\\";s:148:...   \n",
       "4    2118      27  112658  O:8:\\stdClass\\\":3:{s:11:\\\"largeImgUrl\\\";s:146:...   \n",
       "\n",
       "                                       specialImages         ...          \\\n",
       "0  O:8:\\stdClass\\\":2:{s:15:\\\"largeTOTWImgUrl\\\";N;...         ...           \n",
       "1  O:8:\\stdClass\\\":2:{s:15:\\\"largeTOTWImgUrl\\\";N;...         ...           \n",
       "2  O:8:\\stdClass\\\":2:{s:15:\\\"largeTOTWImgUrl\\\";N;...         ...           \n",
       "3  O:8:\\stdClass\\\":2:{s:15:\\\"largeTOTWImgUrl\\\";N;...         ...           \n",
       "4  O:8:\\stdClass\\\":2:{s:15:\\\"largeTOTWImgUrl\\\";N;...         ...           \n",
       "\n",
       "  rawAttributeChemistryBonus isLoan  squadPosition  itemType  discardValue  \\\n",
       "0                        NaN    NaN            NaN    player           NaN   \n",
       "1                        NaN    NaN            NaN    player           NaN   \n",
       "2                        NaN    NaN            NaN    player           NaN   \n",
       "3                        NaN    NaN            NaN    player           NaN   \n",
       "4                        NaN    NaN            NaN    player           NaN   \n",
       "\n",
       "       modelName  baseId  rating          created_at          updated_at  \n",
       "0  FUTPlayerItem  190043      95 2016-09-21 16:33:58 2016-09-21 16:33:58  \n",
       "1  FUTPlayerItem   20801      94 2016-09-21 16:33:58 2016-09-21 16:33:58  \n",
       "2  FUTPlayerItem  158023      93 2016-09-21 16:33:58 2016-09-21 16:33:58  \n",
       "3  FUTPlayerItem  168473      93 2016-09-21 16:33:58 2016-09-21 16:33:58  \n",
       "4  FUTPlayerItem    1109      92 2016-09-21 16:33:58 2016-09-21 16:33:58  \n",
       "\n",
       "[5 rows x 78 columns]"
      ]
     },
     "execution_count": 11,
     "metadata": {},
     "output_type": "execute_result"
    }
   ],
   "source": [
    "dados.head()"
   ]
  },
  {
   "cell_type": "code",
   "execution_count": 28,
   "metadata": {
    "scrolled": true
   },
   "outputs": [
    {
     "name": "stdout",
     "output_type": "stream",
     "text": [
      "id  - coluna: 0\n",
      "commonName  - coluna: 1\n",
      "firstName  - coluna: 2\n",
      "headshotImgUrl  - coluna: 3\n",
      "lastName  - coluna: 4\n",
      "league  - coluna: 5\n",
      "nation  - coluna: 6\n",
      "club  - coluna: 7\n",
      "headshot  - coluna: 8\n",
      "specialImages  - coluna: 9\n",
      "position  - coluna: 10\n",
      "playStyle  - coluna: 11\n",
      "playStyleId  - coluna: 12\n",
      "height  - coluna: 13\n",
      "weight  - coluna: 14\n",
      "birthdate  - coluna: 15\n",
      "age  - coluna: 16\n",
      "acceleration  - coluna: 17\n",
      "aggression  - coluna: 18\n",
      "agility  - coluna: 19\n",
      "balance  - coluna: 20\n",
      "ballcontrol  - coluna: 21\n",
      "foot  - coluna: 22\n",
      "skillMoves  - coluna: 23\n",
      "crossing  - coluna: 24\n",
      "curve  - coluna: 25\n",
      "dribbling  - coluna: 26\n",
      "finishing  - coluna: 27\n",
      "freekickaccuracy  - coluna: 28\n",
      "gkdiving  - coluna: 29\n",
      "gkhandling  - coluna: 30\n",
      "gkkicking  - coluna: 31\n",
      "gkpositioning  - coluna: 32\n",
      "gkreflexes  - coluna: 33\n",
      "headingaccuracy  - coluna: 34\n",
      "interceptions  - coluna: 35\n",
      "jumping  - coluna: 36\n",
      "longpassing  - coluna: 37\n",
      "longshots  - coluna: 38\n",
      "marking  - coluna: 39\n",
      "penalties  - coluna: 40\n",
      "positioning  - coluna: 41\n",
      "potential  - coluna: 42\n",
      "reactions  - coluna: 43\n",
      "shortpassing  - coluna: 44\n",
      "shotpower  - coluna: 45\n",
      "slidingtackle  - coluna: 46\n",
      "sprintspeed  - coluna: 47\n",
      "standingtackle  - coluna: 48\n",
      "stamina  - coluna: 49\n",
      "strength  - coluna: 50\n",
      "vision  - coluna: 51\n",
      "volleys  - coluna: 52\n",
      "weakFoot  - coluna: 53\n",
      "traits  - coluna: 54\n",
      "specialities  - coluna: 55\n",
      "atkWorkRate  - coluna: 56\n",
      "defWorkRate  - coluna: 57\n",
      "playerType  - coluna: 58\n",
      "fifaAttributes  - coluna: 59\n",
      "name  - coluna: 60\n",
      "quality  - coluna: 61\n",
      "color  - coluna: 62\n",
      "isGK  - coluna: 63\n",
      "positionFull  - coluna: 64\n",
      "isSpecialType  - coluna: 65\n",
      "contracts  - coluna: 66\n",
      "fitness  - coluna: 67\n",
      "rawAttributeChemistryBonus  - coluna: 68\n",
      "isLoan  - coluna: 69\n",
      "squadPosition  - coluna: 70\n",
      "itemType  - coluna: 71\n",
      "discardValue  - coluna: 72\n",
      "modelName  - coluna: 73\n",
      "baseId  - coluna: 74\n",
      "rating  - coluna: 75\n",
      "created_at  - coluna: 76\n",
      "updated_at  - coluna: 77\n"
     ]
    }
   ],
   "source": [
    "n=0\n",
    "for h in dados.columns:\n",
    "    print (h, \" - coluna:\",n)\n",
    "    n=n+1    "
   ]
  },
  {
   "cell_type": "code",
   "execution_count": 5,
   "metadata": {},
   "outputs": [
    {
     "name": "stdout",
     "output_type": "stream",
     "text": [
      "[[ 7.33333333  9.        ]\n",
      " [ 1.16666667  1.46666667]]\n",
      "[1 0 1 0 1 0]\n"
     ]
    }
   ],
   "source": [
    "#teste de clusterização básica (flat clustering)\n",
    "\n",
    "#sklearn recebe os dados no formato numpy array\n",
    "X = np.array([[1, 2],     \n",
    "              [5, 8],\n",
    "              [1.5, 1.8],\n",
    "              [8, 8],\n",
    "              [1, 0.6],\n",
    "              [9, 11]])\n",
    "\n",
    "\n",
    "kmeans = KMeans(n_clusters=2) #inicializa o número de clusters\n",
    "kmeans.fit(X)   #\"fit\" da data (learning) \n",
    "\n",
    "centroids = kmeans.cluster_centers_ #pegando os valores das centroides do \"fiting\"\n",
    "labels = kmeans.labels_ #labels que o programa deu \n",
    "\n",
    "print(centroids)\n",
    "print(labels)"
   ]
  },
  {
   "cell_type": "code",
   "execution_count": 6,
   "metadata": {},
   "outputs": [
    {
     "name": "stdout",
     "output_type": "stream",
     "text": [
      "coordinate: [ 1.  2.] label: 1\n",
      "coordinate: [ 5.  8.] label: 0\n",
      "coordinate: [ 1.5  1.8] label: 1\n",
      "coordinate: [ 8.  8.] label: 0\n",
      "coordinate: [ 1.   0.6] label: 1\n",
      "coordinate: [  9.  11.] label: 0\n"
     ]
    },
    {
     "data": {
      "image/png": "[encoded data removed]",
      "text/plain": [
       "<matplotlib.figure.Figure at 0x25790d837b8>"
      ]
     },
     "metadata": {},
     "output_type": "display_data"
    }
   ],
   "source": [
    "colors = [\"g.\",\"r.\",\"c.\",\"y.\"]\n",
    "\n",
    "for i in range(len(X)):\n",
    "    print(\"coordinate:\",X[i], \"label:\", labels[i])\n",
    "    plt.plot(X[i][0], X[i][1], colors[labels[i]], markersize = 10)\n",
    "\n",
    "\n",
    "plt.scatter(centroids[:, 0],centroids[:, 1], marker = \"x\", s=150, linewidths = 5, zorder = 10)\n",
    "\n",
    "plt.show()\n",
    "\n",
    "#observando alguns resultados do cluster\n",
    "\n",
    "# a lista de cores é uma lista que fornecemos para a máquina \n",
    "# escolher durante a classificação para facilitar a visualização\n",
    "# neste caso só foram necessárias duas mas dependendo da quantidade\n",
    "# de clusters podemos precisar de mais.\n",
    "\n",
    "#novamente os labels são os nomes de cada grupo que o programa deu\n"
   ]
  },
  {
   "cell_type": "code",
   "execution_count": 7,
   "metadata": {
    "collapsed": true
   },
   "outputs": [],
   "source": [
    "#após a primeira iteração podem ser feitas uma série de implementções\n",
    "#como cluster multi dimensional e hierárquico.\n",
    "#demonstrarei mais a seguir."
   ]
  },
  {
   "cell_type": "code",
   "execution_count": null,
   "metadata": {
    "collapsed": true
   },
   "outputs": [],
   "source": []
  }
 ],
 "metadata": {
  "kernelspec": {
   "display_name": "Python 3",
   "language": "python",
   "name": "python3"
  },
  "language_info": {
   "codemirror_mode": {
    "name": "ipython",
    "version": 3
   },
   "file_extension": ".py",
   "mimetype": "text/x-python",
   "name": "python",
   "nbconvert_exporter": "python",
   "pygments_lexer": "ipython3",
   "version": "3.6.0"
  }
 },
 "nbformat": 4,
 "nbformat_minor": 2
}
